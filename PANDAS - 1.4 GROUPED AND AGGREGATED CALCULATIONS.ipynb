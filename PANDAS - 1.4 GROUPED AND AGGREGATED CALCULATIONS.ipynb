{
 "cells": [
  {
   "cell_type": "markdown",
   "metadata": {},
   "source": [
    "# 1.4 GROUPED AND AGGREGATED CALCULATIONS"
   ]
  },
  {
   "cell_type": "code",
   "execution_count": 2,
   "metadata": {
    "collapsed": true
   },
   "outputs": [],
   "source": [
    "import pandas as pd"
   ]
  },
  {
   "cell_type": "code",
   "execution_count": 3,
   "metadata": {
    "collapsed": true
   },
   "outputs": [],
   "source": [
    "df = pd.read_csv('data/gapminder.tsv', sep='\\t')"
   ]
  },
  {
   "cell_type": "code",
   "execution_count": 4,
   "metadata": {},
   "outputs": [
    {
     "name": "stdout",
     "output_type": "stream",
     "text": [
      "       country continent  year  lifeExp       pop   gdpPercap\n",
      "0  Afghanistan      Asia  1952   28.801   8425333  779.445314\n",
      "1  Afghanistan      Asia  1957   30.332   9240934  820.853030\n",
      "2  Afghanistan      Asia  1962   31.997  10267083  853.100710\n",
      "3  Afghanistan      Asia  1967   34.020  11537966  836.197138\n",
      "4  Afghanistan      Asia  1972   36.088  13079460  739.981106\n",
      "5  Afghanistan      Asia  1977   38.438  14880372  786.113360\n",
      "6  Afghanistan      Asia  1982   39.854  12881816  978.011439\n",
      "7  Afghanistan      Asia  1987   40.822  13867957  852.395945\n",
      "8  Afghanistan      Asia  1992   41.674  16317921  649.341395\n",
      "9  Afghanistan      Asia  1997   41.763  22227415  635.341351\n"
     ]
    }
   ],
   "source": [
    "print(df.head(n=10))"
   ]
  },
  {
   "cell_type": "markdown",
   "metadata": {},
   "source": [
    "There are several initial questions that we can ask ourselves:\n",
    "\n",
    "\n",
    "1. For each year in our data, what was the average life expectancy? What is the average life expectancy, population, and GDP?\n",
    "\n",
    "2. What if we stratify the data by continent and perform the same calculations?\n",
    "\n",
    "3. How many countries are listed in each continent?"
   ]
  },
  {
   "cell_type": "markdown",
   "metadata": {},
   "source": [
    "1.4.1 Grouped Means\n",
    "\n",
    "To answer the questions just posed, we need to perform a grouped (i.e., aggregate) calculation. In other words, we need to perform a calculation, be it an average or a frequency count, but apply it to each subset of a variable. Another way to think about grouped calculations is as a split–apply–combine process. We first split our data into various parts, then apply a function (or calculation) of our choosing to each of the split parts, and finally combine all the individual split calculations into a single dataframe. We accomplish grouped/aggregate computations by using the groupby method on dataframes."
   ]
  },
  {
   "cell_type": "code",
   "execution_count": 8,
   "metadata": {},
   "outputs": [
    {
     "name": "stdout",
     "output_type": "stream",
     "text": [
      "year\n",
      "1952    49.057620\n",
      "1957    51.507401\n",
      "1962    53.609249\n",
      "1967    55.678290\n",
      "1972    57.647386\n",
      "1977    59.570157\n",
      "1982    61.533197\n",
      "1987    63.212613\n",
      "1992    64.160338\n",
      "1997    65.014676\n",
      "2002    65.694923\n",
      "2007    67.007423\n",
      "Name: lifeExp, dtype: float64\n"
     ]
    }
   ],
   "source": [
    "# For each year in our data, what was the average life expectancy?\n",
    "\n",
    "# To answer this question,\n",
    "\n",
    "# we need to split our data into parts by year;\n",
    "\n",
    "# then we get the 'lifeExp' column and calculate the mean\n",
    "\n",
    "print(df.groupby('year')['lifeExp'].mean())"
   ]
  },
  {
   "cell_type": "markdown",
   "metadata": {},
   "source": [
    "Let’s unpack the statement we used in this example. We first create a grouped object. Notice that if we printed the grouped dataframe, Pandas would return only the memory location."
   ]
  },
  {
   "cell_type": "code",
   "execution_count": 9,
   "metadata": {},
   "outputs": [
    {
     "name": "stdout",
     "output_type": "stream",
     "text": [
      "<class 'pandas.core.groupby.DataFrameGroupBy'>\n"
     ]
    }
   ],
   "source": [
    "grouped_year_df = df.groupby('year')\n",
    "\n",
    "print(type(grouped_year_df))"
   ]
  },
  {
   "cell_type": "markdown",
   "metadata": {},
   "source": [
    "From the grouped data, we can subset the columns of interest on which we want to perform our calculations. To our question, we need the lifeExp column. We can use the subsetting methods described in Section 1.3.1.1."
   ]
  },
  {
   "cell_type": "code",
   "execution_count": 10,
   "metadata": {},
   "outputs": [
    {
     "name": "stdout",
     "output_type": "stream",
     "text": [
      "<class 'pandas.core.groupby.SeriesGroupBy'>\n"
     ]
    }
   ],
   "source": [
    "grouped_year_df_lifeExp = grouped_year_df['lifeExp']\n",
    "\n",
    "print(type(grouped_year_df_lifeExp))"
   ]
  },
  {
   "cell_type": "markdown",
   "metadata": {},
   "source": [
    "Notice that we now are given a series (because we asked for only one column) in which the contents of the series are grouped (in our example by year).\n",
    "\n",
    "Finally, we know the lifeExp column is of type float64. An operation we can perform on a vector of numbers is to calculate the mean to get our final desired result."
   ]
  },
  {
   "cell_type": "code",
   "execution_count": 11,
   "metadata": {},
   "outputs": [
    {
     "name": "stdout",
     "output_type": "stream",
     "text": [
      "year\n",
      "1952    49.057620\n",
      "1957    51.507401\n",
      "1962    53.609249\n",
      "1967    55.678290\n",
      "1972    57.647386\n",
      "1977    59.570157\n",
      "1982    61.533197\n",
      "1987    63.212613\n",
      "1992    64.160338\n",
      "1997    65.014676\n",
      "2002    65.694923\n",
      "2007    67.007423\n",
      "Name: lifeExp, dtype: float64\n"
     ]
    }
   ],
   "source": [
    "mean_lifeExp_by_year = grouped_year_df_lifeExp.mean()\n",
    "\n",
    "print(mean_lifeExp_by_year)"
   ]
  },
  {
   "cell_type": "markdown",
   "metadata": {},
   "source": [
    "We can perform a similar set of calculations for the population and GDP since they are of types int64 and float64, respectively. But what if we want to group and stratify the data by more than one variable? And what if we want to perform the same calculation on multiple columns? We can build on the material earlier in this chapter by using a list!"
   ]
  },
  {
   "cell_type": "code",
   "execution_count": 15,
   "metadata": {},
   "outputs": [
    {
     "name": "stdout",
     "output_type": "stream",
     "text": [
      "                  lifeExp     gdpPercap\n",
      "year continent                         \n",
      "1952 Africa     39.135500   1252.572466\n",
      "     Americas   53.279840   4079.062552\n",
      "     Asia       46.314394   5195.484004\n",
      "     Europe     64.408500   5661.057435\n",
      "     Oceania    69.255000  10298.085650\n",
      "1957 Africa     41.266346   1385.236062\n",
      "     Americas   55.960280   4616.043733\n",
      "     Asia       49.318544   5787.732940\n",
      "     Europe     66.703067   6963.012816\n",
      "     Oceania    70.295000  11598.522455\n",
      "1962 Africa     43.319442   1598.078825\n",
      "     Americas   58.398760   4901.541870\n",
      "     Asia       51.563223   5729.369625\n",
      "     Europe     68.539233   8365.486814\n",
      "     Oceania    71.085000  12696.452430\n",
      "1967 Africa     45.334538   2050.363801\n",
      "     Americas   60.410920   5668.253496\n",
      "     Asia       54.663640   5971.173374\n",
      "     Europe     69.737600  10143.823757\n",
      "     Oceania    71.310000  14495.021790\n",
      "1972 Africa     47.450942   2339.615674\n",
      "     Americas   62.394920   6491.334139\n",
      "     Asia       57.319269   8187.468699\n",
      "     Europe     70.775033  12479.575246\n",
      "     Oceania    71.910000  16417.333380\n",
      "1977 Africa     49.580423   2585.938508\n",
      "     Americas   64.391560   7352.007126\n",
      "     Asia       59.610556   7791.314020\n",
      "     Europe     71.937767  14283.979110\n",
      "     Oceania    72.855000  17283.957605\n",
      "1982 Africa     51.592865   2481.592960\n",
      "     Americas   66.228840   7506.737088\n",
      "     Asia       62.617939   7434.135157\n",
      "     Europe     72.806400  15617.896551\n",
      "     Oceania    74.290000  18554.709840\n",
      "1987 Africa     53.344788   2282.668991\n",
      "     Americas   68.090720   7793.400261\n",
      "     Asia       64.851182   7608.226508\n",
      "     Europe     73.642167  17214.310727\n",
      "     Oceania    75.320000  20448.040160\n",
      "1992 Africa     53.629577   2281.810333\n",
      "     Americas   69.568360   8044.934406\n",
      "     Asia       66.537212   8639.690248\n",
      "     Europe     74.440100  17061.568084\n",
      "     Oceania    76.945000  20894.045885\n",
      "1997 Africa     53.598269   2378.759555\n",
      "     Americas   71.150480   8889.300863\n",
      "     Asia       68.020515   9834.093295\n",
      "     Europe     75.505167  19076.781802\n",
      "     Oceania    78.190000  24024.175170\n",
      "2002 Africa     53.325231   2599.385159\n",
      "     Americas   72.422040   9287.677107\n",
      "     Asia       69.233879  10174.090397\n",
      "     Europe     76.700600  21711.732422\n",
      "     Oceania    79.740000  26938.778040\n",
      "2007 Africa     54.806038   3089.032605\n",
      "     Americas   73.608120  11003.031625\n",
      "     Asia       70.728485  12473.026870\n",
      "     Europe     77.648600  25054.481636\n",
      "     Oceania    80.719500  29810.188275\n"
     ]
    }
   ],
   "source": [
    "# the backslash allows us to break up 1 long line of Python code\n",
    "# into multiple lines\n",
    "# df.groupby(['year', 'continent'])[['lifeExp', 'gdpPercap']].mean()\n",
    "# is the same as the following code\n",
    "\n",
    "multi_group_var = df.\\\n",
    "    groupby(['year', 'continent'])\\\n",
    "    [['lifeExp', 'gdpPercap']].\\\n",
    "    mean()\n",
    "\n",
    "print(multi_group_var)"
   ]
  },
  {
   "cell_type": "markdown",
   "metadata": {},
   "source": [
    "The output data is grouped by year and continent. For each year–continent pair, we calculated the average life expectancy and average GDP. The data is also printed out a little differently. Notice the year and continent “column names” are not on the same line as the life expectancy and GPD “column names.” There is some hierarchal structure between the year and continent row indices. We’ll discuss working with these types of data in more detail in Chapter 10."
   ]
  },
  {
   "cell_type": "markdown",
   "metadata": {},
   "source": [
    "If you need to “flatten” the dataframe, you can use the reset_index method."
   ]
  },
  {
   "cell_type": "code",
   "execution_count": 16,
   "metadata": {},
   "outputs": [
    {
     "name": "stdout",
     "output_type": "stream",
     "text": [
      "    year continent    lifeExp     gdpPercap\n",
      "0   1952    Africa  39.135500   1252.572466\n",
      "1   1952  Americas  53.279840   4079.062552\n",
      "2   1952      Asia  46.314394   5195.484004\n",
      "3   1952    Europe  64.408500   5661.057435\n",
      "4   1952   Oceania  69.255000  10298.085650\n",
      "5   1957    Africa  41.266346   1385.236062\n",
      "6   1957  Americas  55.960280   4616.043733\n",
      "7   1957      Asia  49.318544   5787.732940\n",
      "8   1957    Europe  66.703067   6963.012816\n",
      "9   1957   Oceania  70.295000  11598.522455\n",
      "10  1962    Africa  43.319442   1598.078825\n",
      "11  1962  Americas  58.398760   4901.541870\n",
      "12  1962      Asia  51.563223   5729.369625\n",
      "13  1962    Europe  68.539233   8365.486814\n",
      "14  1962   Oceania  71.085000  12696.452430\n"
     ]
    }
   ],
   "source": [
    "flat = multi_group_var.reset_index()\n",
    "\n",
    "print(flat.head(15))"
   ]
  },
  {
   "cell_type": "code",
   "execution_count": 20,
   "metadata": {},
   "outputs": [
    {
     "name": "stdout",
     "output_type": "stream",
     "text": [
      "        country continent  year  lifeExp       pop     gdpPercap\n",
      "0   Afghanistan      Asia  1952   28.801   8425333    779.445314\n",
      "1   Afghanistan      Asia  1957   30.332   9240934    820.853030\n",
      "2   Afghanistan      Asia  1962   31.997  10267083    853.100710\n",
      "3   Afghanistan      Asia  1967   34.020  11537966    836.197138\n",
      "4   Afghanistan      Asia  1972   36.088  13079460    739.981106\n",
      "5   Afghanistan      Asia  1977   38.438  14880372    786.113360\n",
      "6   Afghanistan      Asia  1982   39.854  12881816    978.011439\n",
      "7   Afghanistan      Asia  1987   40.822  13867957    852.395945\n",
      "8   Afghanistan      Asia  1992   41.674  16317921    649.341395\n",
      "9   Afghanistan      Asia  1997   41.763  22227415    635.341351\n",
      "10  Afghanistan      Asia  2002   42.129  25268405    726.734055\n",
      "11  Afghanistan      Asia  2007   43.828  31889923    974.580338\n",
      "12      Albania    Europe  1952   55.230   1282697   1601.056136\n",
      "13      Albania    Europe  1957   59.280   1476505   1942.284244\n",
      "14      Albania    Europe  1962   64.820   1728137   2312.888958\n",
      "15      Albania    Europe  1967   66.220   1984060   2760.196931\n",
      "16      Albania    Europe  1972   67.690   2263554   3313.422188\n",
      "17      Albania    Europe  1977   68.930   2509048   3533.003910\n",
      "18      Albania    Europe  1982   70.420   2780097   3630.880722\n",
      "19      Albania    Europe  1987   72.000   3075321   3738.932735\n",
      "20      Albania    Europe  1992   71.581   3326498   2497.437901\n",
      "21      Albania    Europe  1997   72.950   3428038   3193.054604\n",
      "22      Albania    Europe  2002   75.651   3508512   4604.211737\n",
      "23      Albania    Europe  2007   76.423   3600523   5937.029526\n",
      "24      Algeria    Africa  1952   43.077   9279525   2449.008185\n",
      "25      Algeria    Africa  1957   45.685  10270856   3013.976023\n",
      "26      Algeria    Africa  1962   48.303  11000948   2550.816880\n",
      "27      Algeria    Africa  1967   51.407  12760499   3246.991771\n",
      "28      Algeria    Africa  1972   54.518  14760787   4182.663766\n",
      "29      Algeria    Africa  1977   58.014  17152804   4910.416756\n",
      "..          ...       ...   ...      ...       ...           ...\n",
      "70    Australia   Oceania  2002   80.370  19546792  30687.754730\n",
      "71    Australia   Oceania  2007   81.235  20434176  34435.367440\n",
      "72      Austria    Europe  1952   66.800   6927772   6137.076492\n",
      "73      Austria    Europe  1957   67.480   6965860   8842.598030\n",
      "74      Austria    Europe  1962   69.540   7129864  10750.721110\n",
      "75      Austria    Europe  1967   70.140   7376998  12834.602400\n",
      "76      Austria    Europe  1972   70.630   7544201  16661.625600\n",
      "77      Austria    Europe  1977   72.170   7568430  19749.422300\n",
      "78      Austria    Europe  1982   73.180   7574613  21597.083620\n",
      "79      Austria    Europe  1987   74.940   7578903  23687.826070\n",
      "80      Austria    Europe  1992   76.040   7914969  27042.018680\n",
      "81      Austria    Europe  1997   77.510   8069876  29095.920660\n",
      "82      Austria    Europe  2002   78.980   8148312  32417.607690\n",
      "83      Austria    Europe  2007   79.829   8199783  36126.492700\n",
      "84      Bahrain      Asia  1952   50.939    120447   9867.084765\n",
      "85      Bahrain      Asia  1957   53.832    138655  11635.799450\n",
      "86      Bahrain      Asia  1962   56.923    171863  12753.275140\n",
      "87      Bahrain      Asia  1967   59.923    202182  14804.672700\n",
      "88      Bahrain      Asia  1972   63.300    230800  18268.658390\n",
      "89      Bahrain      Asia  1977   65.593    297410  19340.101960\n",
      "90      Bahrain      Asia  1982   69.052    377967  19211.147310\n",
      "91      Bahrain      Asia  1987   70.750    454612  18524.024060\n",
      "92      Bahrain      Asia  1992   72.601    529491  19035.579170\n",
      "93      Bahrain      Asia  1997   73.925    598561  20292.016790\n",
      "94      Bahrain      Asia  2002   74.795    656397  23403.559270\n",
      "95      Bahrain      Asia  2007   75.635    708573  29796.048340\n",
      "96   Bangladesh      Asia  1952   37.484  46886859    684.244172\n",
      "97   Bangladesh      Asia  1957   39.348  51365468    661.637458\n",
      "98   Bangladesh      Asia  1962   41.216  56839289    686.341554\n",
      "99   Bangladesh      Asia  1967   43.453  62821884    721.186086\n",
      "\n",
      "[100 rows x 6 columns]\n"
     ]
    }
   ],
   "source": [
    "print(df.head(n=100))"
   ]
  },
  {
   "cell_type": "markdown",
   "metadata": {},
   "source": [
    "1.4.2 Grouped Frequency Counts\n",
    "\n",
    "Another common data-related task is to calculate frequencies. We can use the nunique and value_counts methods, respectively, to get counts of unique values and frequency counts on a Pandas Series."
   ]
  },
  {
   "cell_type": "code",
   "execution_count": 21,
   "metadata": {},
   "outputs": [
    {
     "name": "stdout",
     "output_type": "stream",
     "text": [
      "continent\n",
      "Africa      52\n",
      "Americas    25\n",
      "Asia        33\n",
      "Europe      30\n",
      "Oceania      2\n",
      "Name: country, dtype: int64\n"
     ]
    }
   ],
   "source": [
    "# use the nunique (number unique)\n",
    "# to calculate the number of unique values in a series\n",
    "\n",
    "print(df.groupby('continent')['country'].nunique())"
   ]
  },
  {
   "cell_type": "markdown",
   "metadata": {},
   "source": [
    "Question\n",
    "\n",
    "What do you get if you use value_counts instead of nunique?"
   ]
  },
  {
   "cell_type": "code",
   "execution_count": 22,
   "metadata": {},
   "outputs": [
    {
     "ename": "SyntaxError",
     "evalue": "unexpected EOF while parsing (<ipython-input-22-f82acc2bf3c5>, line 1)",
     "output_type": "error",
     "traceback": [
      "\u001b[1;36m  File \u001b[1;32m\"<ipython-input-22-f82acc2bf3c5>\"\u001b[1;36m, line \u001b[1;32m1\u001b[0m\n\u001b[1;33m    print(df.groupby('continent')['country'].value_counts\u001b[0m\n\u001b[1;37m                                                         ^\u001b[0m\n\u001b[1;31mSyntaxError\u001b[0m\u001b[1;31m:\u001b[0m unexpected EOF while parsing\n"
     ]
    }
   ],
   "source": [
    "print(df.groupby('continent')['country'].value_counts"
   ]
  },
  {
   "cell_type": "code",
   "execution_count": null,
   "metadata": {
    "collapsed": true
   },
   "outputs": [],
   "source": []
  }
 ],
 "metadata": {
  "kernelspec": {
   "display_name": "Python 3",
   "language": "python",
   "name": "python3"
  },
  "language_info": {
   "codemirror_mode": {
    "name": "ipython",
    "version": 3
   },
   "file_extension": ".py",
   "mimetype": "text/x-python",
   "name": "python",
   "nbconvert_exporter": "python",
   "pygments_lexer": "ipython3",
   "version": "3.6.2"
  }
 },
 "nbformat": 4,
 "nbformat_minor": 2
}
