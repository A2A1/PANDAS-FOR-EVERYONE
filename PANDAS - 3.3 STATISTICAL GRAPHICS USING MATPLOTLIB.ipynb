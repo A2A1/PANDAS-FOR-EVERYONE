{
 "cells": [
  {
   "cell_type": "markdown",
   "metadata": {},
   "source": [
    "## 3.3 STATISTICAL GRAPHICS USING MATPLOTLIB"
   ]
  },
  {
   "cell_type": "markdown",
   "metadata": {},
   "source": [
    "The tips data we will be using for the next series of visualizations come from the seaborn library. This data set contains the amount of the tips that people leave for various variables. For example, the total cost of the bill, the size of the party, the day of the week, and the time of.\n",
    "\n",
    "We can load this data set just as we did the Anscombe data set.\n",
    "\n",
    "Chak's Note: In order to load \"tips\" dataset, I had to turn off VPN. But work fine after turning VPN back on sns.load_dataset()"
   ]
  },
  {
   "cell_type": "code",
   "execution_count": 2,
   "metadata": {},
   "outputs": [],
   "source": [
    "# the anscombe data set can be found in the seaborn library\n",
    "import seaborn as sns"
   ]
  },
  {
   "cell_type": "code",
   "execution_count": 5,
   "metadata": {},
   "outputs": [
    {
     "name": "stdout",
     "output_type": "stream",
     "text": [
      "   total_bill   tip     sex smoker  day    time  size\n",
      "0       16.99  1.01  Female     No  Sun  Dinner     2\n",
      "1       10.34  1.66    Male     No  Sun  Dinner     3\n",
      "2       21.01  3.50    Male     No  Sun  Dinner     3\n",
      "3       23.68  3.31    Male     No  Sun  Dinner     2\n",
      "4       24.59  3.61  Female     No  Sun  Dinner     4\n"
     ]
    }
   ],
   "source": [
    "tips = sns.load_dataset(\"tips\")\n",
    "\n",
    "print(tips.head())"
   ]
  },
  {
   "cell_type": "code",
   "execution_count": 6,
   "metadata": {},
   "outputs": [
    {
     "name": "stdout",
     "output_type": "stream",
     "text": [
      "     total_bill   tip     sex smoker   day    time  size\n",
      "239       29.03  5.92    Male     No   Sat  Dinner     3\n",
      "240       27.18  2.00  Female    Yes   Sat  Dinner     2\n",
      "241       22.67  2.00    Male    Yes   Sat  Dinner     2\n",
      "242       17.82  1.75    Male     No   Sat  Dinner     2\n",
      "243       18.78  3.00  Female     No  Thur  Dinner     2\n"
     ]
    }
   ],
   "source": [
    "print(tips.tail())"
   ]
  },
  {
   "cell_type": "markdown",
   "metadata": {},
   "source": [
    "### 3.3.1 Univariate"
   ]
  },
  {
   "cell_type": "markdown",
   "metadata": {},
   "source": [
    "In statistics jargon, the term “univariate” refers to a single variable."
   ]
  },
  {
   "cell_type": "markdown",
   "metadata": {},
   "source": [
    "#### 3.3.1.1 Histograms"
   ]
  },
  {
   "cell_type": "markdown",
   "metadata": {},
   "source": [
    "Histograms are the most common means of looking at a single variable. The values are “binned,” meaning they are grouped together and plotted to show the distribution of the variable (Figure 3.8)."
   ]
  },
  {
   "cell_type": "code",
   "execution_count": 8,
   "metadata": {},
   "outputs": [],
   "source": [
    "import matplotlib.pyplot as plt"
   ]
  },
  {
   "cell_type": "code",
   "execution_count": 9,
   "metadata": {},
   "outputs": [
    {
     "name": "stderr",
     "output_type": "stream",
     "text": [
      "C:\\Users\\ctongsak\\Anaconda3\\lib\\site-packages\\ipykernel_launcher.py:7: UserWarning: Matplotlib is currently using module://ipykernel.pylab.backend_inline, which is a non-GUI backend, so cannot show the figure.\n",
      "  import sys\n"
     ]
    },
    {
     "data": {
      "image/png": "[encoded data removed]",
      "text/plain": [
       "<Figure size 432x288 with 1 Axes>"
      ]
     },
     "metadata": {
      "needs_background": "light"
     },
     "output_type": "display_data"
    }
   ],
   "source": [
    "fig = plt.figure()\n",
    "axes1 = fig.add_subplot(1, 1, 1)\n",
    "axes1.hist(tips['total_bill'], bins=10)\n",
    "axes1.set_title('Histogram of Total Bill')\n",
    "axes1.set_xlabel('Frequency')\n",
    "axes1.set_ylabel('Total Bill')\n",
    "fig.show()"
   ]
  },
  {
   "cell_type": "markdown",
   "metadata": {},
   "source": [
    "### 3.3.2 Bivariate"
   ]
  },
  {
   "cell_type": "markdown",
   "metadata": {},
   "source": [
    "In statistics jargon, the term “bivariate” refers to a two variables."
   ]
  },
  {
   "cell_type": "markdown",
   "metadata": {},
   "source": [
    "#### 3.3.2.1 Scatterplot"
   ]
  },
  {
   "cell_type": "markdown",
   "metadata": {},
   "source": [
    "Scatterplots are used when a continuous variable is plotted against another continuous variable (Figure 3.9)."
   ]
  },
  {
   "cell_type": "code",
   "execution_count": 10,
   "metadata": {},
   "outputs": [
    {
     "name": "stderr",
     "output_type": "stream",
     "text": [
      "C:\\Users\\ctongsak\\Anaconda3\\lib\\site-packages\\ipykernel_launcher.py:7: UserWarning: Matplotlib is currently using module://ipykernel.pylab.backend_inline, which is a non-GUI backend, so cannot show the figure.\n",
      "  import sys\n"
     ]
    },
    {
     "data": {
      "image/png": "[encoded data removed]",
      "text/plain": [
       "<Figure size 432x288 with 1 Axes>"
      ]
     },
     "metadata": {
      "needs_background": "light"
     },
     "output_type": "display_data"
    }
   ],
   "source": [
    "scatter_plot = plt.figure()\n",
    "axes1 = scatter_plot.add_subplot(1, 1, 1)\n",
    "axes1.scatter(tips['total_bill'], tips['tip'])\n",
    "axes1.set_title('Scatterplot of Total Bill vs Tip')\n",
    "axes1.set_xlabel('Total Bill')\n",
    "axes1.set_ylabel('Tip')\n",
    "scatter_plot.show()"
   ]
  },
  {
   "cell_type": "markdown",
   "metadata": {},
   "source": [
    "#### 3.3.2.2 Boxplot"
   ]
  },
  {
   "cell_type": "markdown",
   "metadata": {},
   "source": [
    "Boxplots are used when a discrete variable is plotted against a continuous variable (Figure 3.10)."
   ]
  },
  {
   "cell_type": "code",
   "execution_count": 11,
   "metadata": {},
   "outputs": [
    {
     "name": "stderr",
     "output_type": "stream",
     "text": [
      "C:\\Users\\ctongsak\\Anaconda3\\lib\\site-packages\\ipykernel_launcher.py:15: UserWarning: Matplotlib is currently using module://ipykernel.pylab.backend_inline, which is a non-GUI backend, so cannot show the figure.\n",
      "  from ipykernel import kernelapp as app\n"
     ]
    },
    {
     "data": {
      "image/png": "[encoded data removed]",
      "text/plain": [
       "<Figure size 432x288 with 1 Axes>"
      ]
     },
     "metadata": {
      "needs_background": "light"
     },
     "output_type": "display_data"
    }
   ],
   "source": [
    "boxplot = plt.figure()\n",
    "axes1 = boxplot.add_subplot(1, 1, 1)\n",
    "axes1.boxplot(\n",
    "    # first argument of boxplot is the data\n",
    "    # since we are plotting multiple pieces of data\n",
    "    # we have to put each piece of data into a list\n",
    "    [tips[tips['sex'] == 'Female']['tip'],\n",
    "     tips[tips['sex'] == 'Male']['tip']],\n",
    "    # we can then pass in an optional labels parameter\n",
    "    # to label the data we passed\n",
    "    labels=['Female', 'Male'])\n",
    "axes1.set_xlabel('Sex')\n",
    "axes1.set_ylabel('Tip')\n",
    "axes1.set_title('Boxplot of Tips by Sex')\n",
    "boxplot.show()"
   ]
  },
  {
   "cell_type": "markdown",
   "metadata": {},
   "source": [
    "### 3.3.3 Multivariate Data"
   ]
  },
  {
   "cell_type": "markdown",
   "metadata": {},
   "source": [
    "Plotting multivariate data is tricky, because there isn’t a panacea or template that can be used for every case. To illustrate the process of plotting multivariate data, let’s build on our earlier scatterplot. If we wanted to add another variable, say sex, one option would be to color the points based on the value of the third variable.\n",
    "\n",
    "If we wanted to add a fourth variable, we could add size to the dots. The only caveat with using size as a variable is that humans are not very good at differentiating areas. Sure, if there’s an enormous dot next to a tiny one, your point will be conveyed, but smaller differences are difficult to distinguish, and may add clutter to your visualization. One way to reduce clutter is to add some value of transparency to the individual points, such that many overlapping points will show a darker region of a plot than less crowded areas.\n",
    "\n",
    "The general rule of thumb is that different colors are much easier to distinguish than changes in size. If you have to use areas to convey differences in values, be sure that you are actually plotting relative areas. A common pitfall is to map a value to the radius of a circle for plots, but since the formula for a circle is πr2, your areas are actually based on a squared scale. That is not only misleading, but also wrong.\n",
    "\n",
    "Colors are also difficult to pick. Humans do not perceive hues on a linear scale, so you need to think carefully when picking color palettes. Luckily matplotlib2 and seaborn3 come with their own set of color palettes, and tools like colorbrewer4 can help you pick good color palettes.\n",
    "\n",
    "2. matplotlib colormaps: http://matplotlib.org/users/colormaps.html\n",
    "\n",
    "3. seaborn color palettes: http://stanford.edu/~mwaskom/software/seaborn-dev/tutorial/color_palettes.html\n",
    "\n",
    "4. colorbrewer color palettes http://colorbrewer2.org/\n",
    "\n",
    "Figure 3.11 uses color to add a third variable, sex, to our scatter plot."
   ]
  },
  {
   "cell_type": "code",
   "execution_count": 12,
   "metadata": {},
   "outputs": [
    {
     "name": "stderr",
     "output_type": "stream",
     "text": [
      "C:\\Users\\ctongsak\\Anaconda3\\lib\\site-packages\\ipykernel_launcher.py:28: UserWarning: Matplotlib is currently using module://ipykernel.pylab.backend_inline, which is a non-GUI backend, so cannot show the figure.\n"
     ]
    },
    {
     "data": {
      "image/png": "[encoded data removed]",
      "text/plain": [
       "<Figure size 432x288 with 1 Axes>"
      ]
     },
     "metadata": {
      "needs_background": "light"
     },
     "output_type": "display_data"
    }
   ],
   "source": [
    "# create a color variable based on sex\n",
    "def recode_sex(sex):\n",
    "    if sex == 'Female':\n",
    "       return 0\n",
    "    else:\n",
    "       return 1\n",
    "\n",
    "tips['sex_color'] = tips['sex'].apply(recode_sex)\n",
    "scatter_plot = plt.figure()\n",
    "axes1 = scatter_plot.add_subplot(1, 1, 1)\n",
    "\n",
    "axes1.scatter(\n",
    "    x=tips['total_bill'],\n",
    "    y=tips['tip'],\n",
    "    # set the size of the dots based on party size\n",
    "    # we multiply the values by 10 to make the points bigger\n",
    "    # and to emphasize the differences\n",
    "    s=tips['size'] * 10,\n",
    "    # set the color for the sex\n",
    "    c=tips['sex_color'],\n",
    "    # set the alpha value so points are more transparent\n",
    "    # this helps with overlapping points\n",
    "    alpha=0.5)\n",
    "\n",
    "axes1.set_title('Total Bill vs Tip Colored by Sex and Sized by Size')\n",
    "axes1.set_xlabel('Total Bill')\n",
    "axes1.set_ylabel('Tip')\n",
    "scatter_plot.show()"
   ]
  },
  {
   "cell_type": "code",
   "execution_count": null,
   "metadata": {},
   "outputs": [],
   "source": []
  },
  {
   "cell_type": "code",
   "execution_count": null,
   "metadata": {},
   "outputs": [],
   "source": []
  },
  {
   "cell_type": "code",
   "execution_count": null,
   "metadata": {},
   "outputs": [],
   "source": []
  }
 ],
 "metadata": {
  "kernelspec": {
   "display_name": "Python 3",
   "language": "python",
   "name": "python3"
  },
  "language_info": {
   "codemirror_mode": {
    "name": "ipython",
    "version": 3
   },
   "file_extension": ".py",
   "mimetype": "text/x-python",
   "name": "python",
   "nbconvert_exporter": "python",
   "pygments_lexer": "ipython3",
   "version": "3.7.6"
  }
 },
 "nbformat": 4,
 "nbformat_minor": 4
}
